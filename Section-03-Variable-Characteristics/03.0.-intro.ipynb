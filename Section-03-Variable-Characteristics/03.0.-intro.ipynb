{
 "cells": [
  {
   "attachments": {},
   "cell_type": "markdown",
   "metadata": {},
   "source": [
    "### Variable Characteristics"
   ]
  },
  {
   "attachments": {},
   "cell_type": "markdown",
   "metadata": {},
   "source": [
    "+ Identify variable characteristics.\n",
    "+ Understand how they impact machine learning models.\n",
    "<br/><br/>\n",
    "**Classification**\n",
    "\n",
    "+ Missing values\n",
    "+ Categorical variable\n",
    "+ Linear model assumption: does the variables fulfill those assumptions?\n",
    "+ Distributions\n",
    "+ Outliers\n",
    "+ Feature magnitude"
   ]
  },
  {
   "cell_type": "code",
   "execution_count": null,
   "metadata": {},
   "outputs": [],
   "source": []
  }
 ],
 "metadata": {
  "language_info": {
   "name": "python"
  },
  "orig_nbformat": 4
 },
 "nbformat": 4,
 "nbformat_minor": 2
}
